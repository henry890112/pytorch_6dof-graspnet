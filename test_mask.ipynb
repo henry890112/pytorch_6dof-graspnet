{
 "cells": [
  {
   "cell_type": "code",
   "execution_count": 21,
   "metadata": {},
   "outputs": [
    {
     "name": "stdout",
     "output_type": "stream",
     "text": [
      "base_to_camera_rt\n",
      "dict_keys(['smoothed_object_pc', 'depth', 'base_to_camera_rt', 'image', 'intrinsics_matrix'])\n",
      "5\n"
     ]
    }
   ],
   "source": [
    "import cv2\n",
    "import numpy as np\n",
    "from PIL import Image\n",
    "\n",
    "np.set_printoptions(threshold=np.inf)\n",
    "\n",
    "A = np.load(\"./demo/data/blue_mug.npy\", allow_pickle = True, encoding=\"latin1\").item()\n",
    "\n",
    "# print(A['depth'].shape)\n",
    "# print(A['image'])\n",
    "# print(A['intrinsics_matrix'].shape)\n",
    "print(A.keys())\n",
    "# print(A.values())\n",
    "print(len(A))\n",
    "\n"
   ]
  },
  {
   "cell_type": "code",
   "execution_count": null,
   "metadata": {},
   "outputs": [],
   "source": [
    "ones = np.ones(shape = (224, 224, 3))\n",
    "new = ones - mask2\n",
    "# print(ones - mask2)"
   ]
  },
  {
   "cell_type": "code",
   "execution_count": 5,
   "metadata": {},
   "outputs": [],
   "source": [
    "import numpy as np\n",
    "\n",
    "ones = np.ones(shape = (224, 224, 3))\n",
    "for i in range(50):\n",
    "    mask = cv2.imread('./masks000/00'+str(i)+'.png')\n",
    "    # print(mask)\n",
    "    new = ones - mask\n",
    "    cv2.imwrite('./masks/00'+str(i)+'.png', new)\n"
   ]
  },
  {
   "attachments": {},
   "cell_type": "markdown",
   "metadata": {},
   "source": [
    "# Correct\n",
    "## PIL會讀進二維矩陣（正確的矩陣）, opencv會強至轉成三維所以會錯"
   ]
  },
  {
   "cell_type": "code",
   "execution_count": null,
   "metadata": {},
   "outputs": [],
   "source": [
    "from PIL import Image\n",
    "import numpy as np\n",
    "import cv2\n",
    "\n",
    "ones = np.ones(shape = (224, 224))\n",
    "\n",
    "for i in range(50):\n",
    "\n",
    "    mask = np.array(Image.open('./masks_from_tm5_900/00'+str(i)+'.png'), dtype=np.uint8)\n",
    "    new = ones - mask\n",
    "    print(new.shape)\n",
    "    cv2.imwrite('./masks/00'+str(i)+'.png', new)\n",
    "    # mask.save('./masks/00'+str(i)+'.png')\n"
   ]
  },
  {
   "cell_type": "code",
   "execution_count": null,
   "metadata": {},
   "outputs": [],
   "source": [
    "hi my name s"
   ]
  }
 ],
 "metadata": {
  "kernelspec": {
   "display_name": "Python 3",
   "language": "python",
   "name": "python3"
  },
  "language_info": {
   "codemirror_mode": {
    "name": "ipython",
    "version": 3
   },
   "file_extension": ".py",
   "mimetype": "text/x-python",
   "name": "python",
   "nbconvert_exporter": "python",
   "pygments_lexer": "ipython3",
   "version": "3.8.10"
  },
  "orig_nbformat": 4,
  "vscode": {
   "interpreter": {
    "hash": "e7370f93d1d0cde622a1f8e1c04877d8463912d04d973331ad4851f04de6915a"
   }
  }
 },
 "nbformat": 4,
 "nbformat_minor": 2
}
